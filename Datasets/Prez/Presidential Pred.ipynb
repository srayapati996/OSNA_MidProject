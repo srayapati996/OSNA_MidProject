{
 "cells": [
  {
   "cell_type": "code",
   "execution_count": 10,
   "id": "6027a368-db98-4f8d-b753-2fb24fb61de8",
   "metadata": {},
   "outputs": [
    {
     "name": "stdout",
     "output_type": "stream",
     "text": [
      "Collecting imbalanced-learn\n",
      "  Downloading imbalanced_learn-0.12.4-py3-none-any.whl.metadata (8.3 kB)\n",
      "Requirement already satisfied: numpy>=1.17.3 in c:\\users\\rayap\\appdata\\local\\programs\\python\\python313\\lib\\site-packages (from imbalanced-learn) (2.1.3)\n",
      "Requirement already satisfied: scipy>=1.5.0 in c:\\users\\rayap\\appdata\\local\\programs\\python\\python313\\lib\\site-packages (from imbalanced-learn) (1.14.1)\n",
      "Requirement already satisfied: scikit-learn>=1.0.2 in c:\\users\\rayap\\appdata\\local\\programs\\python\\python313\\lib\\site-packages (from imbalanced-learn) (1.5.2)\n",
      "Requirement already satisfied: joblib>=1.1.1 in c:\\users\\rayap\\appdata\\local\\programs\\python\\python313\\lib\\site-packages (from imbalanced-learn) (1.4.2)\n",
      "Requirement already satisfied: threadpoolctl>=2.0.0 in c:\\users\\rayap\\appdata\\local\\programs\\python\\python313\\lib\\site-packages (from imbalanced-learn) (3.5.0)\n",
      "Downloading imbalanced_learn-0.12.4-py3-none-any.whl (258 kB)\n",
      "Installing collected packages: imbalanced-learn\n",
      "Successfully installed imbalanced-learn-0.12.4\n",
      "Note: you may need to restart the kernel to use updated packages.\n"
     ]
    },
    {
     "name": "stderr",
     "output_type": "stream",
     "text": [
      "\n",
      "[notice] A new release of pip is available: 24.2 -> 24.3.1\n",
      "[notice] To update, run: python.exe -m pip install --upgrade pip\n"
     ]
    }
   ],
   "source": [
    "pip install imbalanced-learn"
   ]
  },
  {
   "cell_type": "code",
   "execution_count": 27,
   "id": "6a2cbbfe-6bd6-403c-8263-45f1da2b7cd6",
   "metadata": {},
   "outputs": [
    {
     "name": "stdout",
     "output_type": "stream",
     "text": [
      "Class distribution:\n",
      " pct_estimate\n",
      "0    159094\n",
      "1    159094\n",
      "Name: count, dtype: int64\n",
      "\n",
      "Feature Importances:\n",
      "pct_trend_adjusted: 0.0723\n",
      "state_id: 0.0278\n",
      "party_id: 0.0846\n",
      "candidate_id: 0.3440\n",
      "year: 0.2093\n",
      "month: 0.0209\n",
      "cycle: 0.2411\n",
      "\n",
      "Confusion Matrix:\n",
      "[[31815    51]\n",
      " [    5 31767]]\n",
      "\n",
      "Classification Report:\n",
      "              precision    recall  f1-score   support\n",
      "\n",
      "           0       1.00      1.00      1.00     31866\n",
      "           1       1.00      1.00      1.00     31772\n",
      "\n",
      "    accuracy                           1.00     63638\n",
      "   macro avg       1.00      1.00      1.00     63638\n",
      "weighted avg       1.00      1.00      1.00     63638\n",
      "\n",
      "\n",
      "ROC-AUC Score: 0.9999458776368079\n",
      "\n",
      "Example Probability of Winning: 0.3200\n",
      "Predicted Winner: Yes\n"
     ]
    },
    {
     "name": "stderr",
     "output_type": "stream",
     "text": [
      "C:\\Users\\rayap\\AppData\\Local\\Programs\\Python\\Python313\\Lib\\site-packages\\sklearn\\base.py:486: UserWarning: X has feature names, but RandomForestClassifier was fitted without feature names\n",
      "  warnings.warn(\n"
     ]
    }
   ],
   "source": [
    "import pandas as pd\n",
    "import numpy as np\n",
    "from sklearn.model_selection import train_test_split\n",
    "from sklearn.ensemble import RandomForestClassifier\n",
    "from sklearn.preprocessing import LabelEncoder\n",
    "from sklearn.metrics import classification_report, confusion_matrix, roc_auc_score\n",
    "from sklearn.impute import SimpleImputer\n",
    "from imblearn.over_sampling import SMOTE\n",
    "\n",
    "# Load the data\n",
    "data = pd.read_csv(\"presidential_primary_averages_2024 (1).csv\")  # Replace with your file path\n",
    "\n",
    "# Preprocess the data\n",
    "data['date'] = pd.to_datetime(data['date'])\n",
    "data['year'] = data['date'].dt.year\n",
    "data['month'] = data['date'].dt.month\n",
    "\n",
    "# Encode categorical features\n",
    "le_state = LabelEncoder()\n",
    "le_party = LabelEncoder()\n",
    "le_candidate = LabelEncoder()\n",
    "\n",
    "data['state_id'] = le_state.fit_transform(data['state'])\n",
    "data['party_id'] = le_party.fit_transform(data['party'])\n",
    "data['candidate_id'] = le_candidate.fit_transform(data['candidate'])\n",
    "\n",
    "# Define features and target\n",
    "X = data[['pct_trend_adjusted', 'state_id', 'party_id', 'candidate_id', 'year', 'month', 'cycle']]\n",
    "y = (data['pct_estimate'] > 50).astype(int)  # Binary target: 1 if > 50%, else 0\n",
    "\n",
    "# Handle missing values using SimpleImputer\n",
    "imputer = SimpleImputer(strategy='mean')\n",
    "X = imputer.fit_transform(X)\n",
    "\n",
    "# Handle class imbalance using SMOTE\n",
    "smote = SMOTE(random_state=42)\n",
    "X_resampled, y_resampled = smote.fit_resample(X, y)\n",
    "\n",
    "# Train-test split\n",
    "X_train, X_test, y_train, y_test = train_test_split(X_resampled, y_resampled, test_size=0.2, random_state=42)\n",
    "\n",
    "# Train the model\n",
    "model = RandomForestClassifier(random_state=42)\n",
    "model.fit(X_train, y_train)\n",
    "\n",
    "# Evaluate the model\n",
    "y_pred = model.predict(X_test)\n",
    "y_proba = model.predict_proba(X_test)[:, 1]\n",
    "\n",
    "print(\"Class distribution:\\n\", pd.Series(y_resampled).value_counts())\n",
    "print(\"\\nFeature Importances:\")\n",
    "for feature, importance in zip(['pct_trend_adjusted', 'state_id', 'party_id', 'candidate_id', 'year', 'month', 'cycle'], model.feature_importances_):\n",
    "    print(f\"{feature}: {importance:.4f}\")\n",
    "\n",
    "print(\"\\nConfusion Matrix:\")\n",
    "print(confusion_matrix(y_test, y_pred))\n",
    "\n",
    "print(\"\\nClassification Report:\")\n",
    "print(classification_report(y_test, y_pred))\n",
    "\n",
    "print(\"\\nROC-AUC Score:\", roc_auc_score(y_test, y_proba))\n",
    "\n",
    "# Handle unseen labels\n",
    "def handle_unseen_labels(label_encoder, label):\n",
    "    if label not in label_encoder.classes_:\n",
    "        label_encoder.classes_ = np.append(label_encoder.classes_, label)\n",
    "    return label_encoder.transform([label])[0]\n",
    "\n",
    "# Example prediction\n",
    "example = pd.DataFrame({\n",
    "    'pct_trend_adjusted': [45.0],\n",
    "    'state_id': [handle_unseen_labels(le_state, 'Texas')],\n",
    "    'party_id': [handle_unseen_labels(le_party, 'Democrat')],\n",
    "    'candidate_id': [handle_unseen_labels(le_candidate, 'Joe Biden')],\n",
    "    'year': [2024],\n",
    "    'month': [11],\n",
    "    'cycle': [2024]\n",
    "})\n",
    "\n",
    "# Predict with probabilities\n",
    "example_proba = model.predict_proba(example)[:, 1]\n",
    "print(f\"\\nExample Probability of Winning: {example_proba[0]:.4f}\")\n",
    "print(\"Predicted Winner:\", \"Yes\" if example_proba[0] > 0.3 else \"No\")\n"
   ]
  },
  {
   "cell_type": "code",
   "execution_count": null,
   "id": "50d660f0-cf0d-4d40-8c66-0c10cb1ca172",
   "metadata": {},
   "outputs": [],
   "source": []
  }
 ],
 "metadata": {
  "kernelspec": {
   "display_name": "Python 3 (ipykernel)",
   "language": "python",
   "name": "python3"
  },
  "language_info": {
   "codemirror_mode": {
    "name": "ipython",
    "version": 3
   },
   "file_extension": ".py",
   "mimetype": "text/x-python",
   "name": "python",
   "nbconvert_exporter": "python",
   "pygments_lexer": "ipython3",
   "version": "3.11.9"
  }
 },
 "nbformat": 4,
 "nbformat_minor": 5
}
